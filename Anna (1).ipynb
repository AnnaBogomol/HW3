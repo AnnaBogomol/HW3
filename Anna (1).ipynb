{
  "nbformat": 4,
  "nbformat_minor": 0,
  "metadata": {
    "kernelspec": {
      "display_name": "Python 3",
      "language": "python",
      "name": "python3"
    },
    "language_info": {
      "codemirror_mode": {
        "name": "ipython",
        "version": 3
      },
      "file_extension": ".py",
      "mimetype": "text/x-python",
      "name": "python",
      "nbconvert_exporter": "python",
      "pygments_lexer": "ipython3",
      "version": "3.7.6"
    },
    "colab": {
      "name": "Anna.ipynb",
      "provenance": []
    }
  },
  "cells": [
    {
      "cell_type": "code",
      "metadata": {
        "id": "8_1VTH15CRIC",
        "colab_type": "code",
        "colab": {}
      },
      "source": [
        "# импортируем библиотеки\n",
        "import numpy as np\n",
        "import matplotlib.pyplot as plt\n",
        "\n",
        "plt.figure(figsize = (10, 7), dpi = 80)"
      ],
      "execution_count": 0,
      "outputs": []
    },
    {
      "cell_type": "markdown",
      "metadata": {
        "id": "48Opc9LSCO8a",
        "colab_type": "text"
      },
      "source": [
        "Построение верхнего графика"
      ]
    },
    {
      "cell_type": "code",
      "metadata": {
        "id": "M3Q-Gym_DWXy",
        "colab_type": "code",
        "colab": {}
      },
      "source": [
        "plt.axes([0, 0.53, .45, .45]) # строим ось для 1 графика, располагаем сверху\n",
        "x = [i for i in range(16, 26)] # задаем координаты точек по х\n",
        "y = np.random.uniform(-30, 0, 10) # узадаем координты точек по у\n",
        "plt.scatter(x,y, facecolor = 'black') # строим график\n",
        "\n",
        "xerr = np.linspace(0.1, 0.1, 2) # кол-во и размер черточек\n",
        "for i in range(len(x)): # цикл отрисовки наших черточек-отрезков\n",
        "    a = [x[i], x[i]]\n",
        "    b = [y[i]-5, y[i]+5]\n",
        "    plt.plot(a,b, linewidth=0.5, color = 'black')\n",
        "    plt.errorbar(a, b , xerr=xerr, fmt='none', color = 'black', elinewidth = 0.5)\n",
        "\n",
        "plt.xlim(15.85, 25.1) # границы х\n",
        "plt.xticks(np.linspace(16, 25, 10, endpoint = True),size = 10) # отметки на оси х\n",
        "plt.ylim(-31, 5) # границы у\n",
        "plt.yticks(np.linspace(-30, 0, 7, endpoint = True),size = 10) # отметки у\n",
        "plt.xlabel('Age', size = 10) # подпись оси х\n",
        "plt.ylabel('Relative turnout to average (%)', size = 10) # подпись оси у\n",
        "\n",
        "for a in range(-30, 5, 5): # строим сетку\n",
        "    if a!=0:\n",
        "        plt.hlines(a, xmin=15.85, xmax=25.1, colors='grey', alpha=0.5, lw=0.5)\n",
        "    else:\n",
        "        plt.hlines(a, xmin=15.85, xmax=25.1, colors='black', alpha=1, lw=0.5)"
      ],
      "execution_count": 0,
      "outputs": []
    },
    {
      "cell_type": "markdown",
      "metadata": {
        "id": "iwTrBeTNDZUj",
        "colab_type": "text"
      },
      "source": [
        "Построение нижнего графика"
      ]
    },
    {
      "cell_type": "code",
      "metadata": {
        "id": "Ll9W-_nK_ccN",
        "colab_type": "code",
        "colab": {
          "base_uri": "https://localhost:8080/",
          "height": 614
        },
        "outputId": "7fd69fbf-47ce-4eb6-f265-c916944adf60"
      },
      "source": [
        "plt.axes([0, 0, .45, .45])\n",
        "plt.scatter(x,y, facecolor = 'black')\n",
        "plt.xlim(15.85, 25.1)\n",
        "plt.xticks(np.linspace(16, 25, 10, endpoint = True), size = 10)\n",
        "plt.ylim(-31, 5)\n",
        "plt.yticks(np.linspace(-30, 0, 7, endpoint = True), size = 10)\n",
        "plt.xlabel('Age', size = 10)\n",
        "plt.ylabel('Relative turnout to average (%)', size = 10)\n",
        "\n",
        "for y in range(-30, 5, 5):\n",
        "    if y!=0:\n",
        "        plt.hlines(y, xmin=15.85, xmax=25.1, colors='grey', alpha=0.5, lw=0.5)\n",
        "    else:\n",
        "        plt.hlines(y, xmin=15.85, xmax=25.1, colors='black', alpha=1, lw=0.5)"
      ],
      "execution_count": 1,
      "outputs": [
        {
          "output_type": "display_data",
          "data": {
            "image/png": "[encoded data removed]",
            "text/plain": [
              "<Figure size 800x560 with 2 Axes>"
            ]
          },
          "metadata": {
            "tags": [],
            "needs_background": "light"
          }
        }
      ]
    }
  ]
}